{
  "nbformat": 4,
  "nbformat_minor": 0,
  "metadata": {
    "colab": {
      "provenance": []
    },
    "kernelspec": {
      "name": "python3",
      "display_name": "Python 3"
    },
    "language_info": {
      "name": "python"
    }
  },
  "cells": [
    {
      "cell_type": "markdown",
      "source": [
        "<font color=\"Teal\" face=\"Comic Sans MS,arial\">\n",
        "  <h1 align=\"center\"><i>Búsqueda Binaria</i></h1>\n",
        "  </font>\n",
        "  <font color=\"Black\" face=\"Comic Sans MS,arial\">\n",
        "  <h5 align=\"center\"><i>Profesor: M.en.C. Miguel Angel Pérez León</i></h5>\n",
        "  <h5 align=\"center\"><i>Ayudante: Jesús Iván Coss Calderón</i></h5>\n",
        "  <h5 align=\"center\"><i>Ayudante: Jonathan Ramírez Montes</i></h5>\n",
        "  <h5 align=\"center\"><i>Materia: Manejo de Datos</i></h5>\n",
        "  </font>"
      ],
      "metadata": {
        "id": "Y7eEouik1z4K"
      }
    },
    {
      "cell_type": "markdown",
      "source": [
        "<a name='Contenido'></a>\n",
        "## Contenido\n",
        "\n",
        "- [Objetivos Generales](#OG)\n",
        "\n",
        "- [Objetivos Particulaes](#OP)\n",
        "\n",
        "- [Introducción](#Int)\n",
        "\n",
        "- [¿Qué es la búsqueda binaria?](#1)\n",
        "\n",
        "- [Funcionamiento de la búsqueda binaria](#2)\n",
        "\n",
        "  - [Ejemplos](#Ej1)\n",
        "\n",
        "- [Pseudocódigo](#3)\n",
        "\n",
        "- [Análisis de complejidad](#4)\n",
        "\n",
        "- [Fuentes](#Fuentes)"
      ],
      "metadata": {
        "id": "M8AFH5zC30RZ"
      }
    },
    {
      "cell_type": "markdown",
      "source": [
        "<a name='OG'></a>\n",
        "## Objetivos Generales\n",
        "\n",
        "- Que el alumno tenga noción de qué es la búsqueda binaria, así como su importancia en el manejo de datos. "
      ],
      "metadata": {
        "id": "tXGNXr1y4H7Q"
      }
    },
    {
      "cell_type": "markdown",
      "source": [
        "<a name='OP'></a>\n",
        "## Objetivos Particulares\n",
        "- Dar un pequeño vistazo teórico y gráfico a cómo funciona este tipo de búsqueda.\n",
        "- Generar un código breve para la explicación del análisis de complejidad de este algoritmo.\n",
        "- Conocer las principales diferencias de este método con el de búsqueda secuencial. "
      ],
      "metadata": {
        "id": "hnhTcYPl51Qp"
      }
    },
    {
      "cell_type": "markdown",
      "source": [
        "<a name='Int'></a>\n",
        "# Introducción\n",
        "\n",
        "Anteriormente, en la búsqueda secuencial, platicábamos acerca de la importancia de este tipo de algoritmos en el día a día, pues con el paso del tiempo el uso de colecciones de datos y de la búsqueda de los mismos va creciendo exponencialmente. Podríamos pensar entonces en que si existen métodos para la búsqueda de elementos, entonces deben haber unos más eficientes que otros, pues aunque para un par de datos puede ser el mismo requerimiento de recursos y tiempo, para el procesamiento de miles debemos pensar en la optimización de los mismos. \n",
        "\n",
        "El día de hoy revisaremos la búsqueda binaria, la cual es uno de los métodos más óptimos para la búsqueda de datos. \n"
      ],
      "metadata": {
        "id": "VIogRBst9g6q"
      }
    },
    {
      "cell_type": "markdown",
      "source": [
        "<a name='1'></a>\n",
        "# 1. ¿Qué es la búsqueda binaria?\n",
        "\n",
        "La búsqueda binaria es un algoritmo de búsqueda utilizado para encontrar un elemento particular en una lista ordenada. Este algoritmo es catalogado como uno de los más eficientes, ya que divide repetidamente la lista en dos mitades, comparando el elemento buscado con el elemento en el medio de la lista. Si el elemento buscado es menor que el elemento medio, se realiza la búsqueda solo en la mitad izquierda de la lista, y si el elemento buscado es mayor que el elemento medio, se realiza la búsqueda solo en la mitad derecha de la lista. Este proceso se repite hasta que se encuentre el elemento deseado o hasta que se agote la lista completa.\n",
        "\n",
        "Las principales diferencias que podemos encontrar con la búsqueda secuencial son que la colección debe estar ordenada (para lo cual podemos hacer uso de los métodos de ordenamiento que se encuentran dentro del programa de la materia), así como que al momento de realizar la búsqueda va partiendo las listas en dos para hacer más eficaz el proceso. \n",
        "\n",
        "[Ir al índice](#Contenido)"
      ],
      "metadata": {
        "id": "Wt_mF3jUAorA"
      }
    },
    {
      "cell_type": "markdown",
      "source": [
        "<a name='2'></a>\n",
        "# 2. Funcionamiento de la búsqueda binaria\n",
        "\n",
        "Como lo mencionamos brevemente con anterioridad, este algoritmo trata mucho de dividir, por eso muchos lo catalogan como el \"divide y vencerás\". En resumen, la búsqueda binaria divide repetidamente la lista en dos mitades, compara el valor buscado con el valor medio de la lista y restringe la búsqueda a la mitad izquierda o derecha, dependiendo de si el valor buscado es mayor o menor que el valor medio. Este proceso se repite hasta que se encuentre el valor deseado o se agote la lista completa.\n",
        "\n",
        "A continuación, se describen los pasos que sigue este algoritmo: \n",
        "\n",
        "1. Inicialmente, se debe tener una lista ordenada y el valor a buscar.\n",
        "2. Se establece el índice del primer elemento de la lista como \"inicio\" y el índice del último elemento de la lista como \"fin\".\n",
        "3. Calcular el índice del elemento del medio utilizando la fórmula: \n",
        "\n",
        "$$PuntoMedio=\\frac{(inicio + fin)}{2}$$\n",
        "\n",
        "4. Comparar el valor buscado con el elemento del medio.\n",
        "  - Si el valor buscado es igual al elemento del medio, se ha encontrado el valor y se devuelve su posición en la lista.\n",
        "  - Si el valor buscado es menor que el elemento del medio, la búsqueda se realiza en la mitad inferior de la lista.\n",
        "  - Si el valor buscado es mayor que el elemento del medio, la búsqueda se realiza en la mitad superior de la lista.\n",
        "5. En caso de tener que buscar en una nueva lista, se actualizan los valores de inicio y fin, considerando la lista nueva mencionada.\n",
        "6. Se repite el proceso desde el paso 3 utilizando los nuevos valores de inicio y fin.\n",
        "7. Se repiten los pasos 4 a 6 hasta encontrar el valor requerido.\n",
        "8. Si el valor buscado no se encuentra en la lista, el algoritmo devuelve un valor especial que indica que el valor no se encontró.\n",
        "\n",
        "<a name='Ej1'></a>\n",
        "## Ejemplos\n",
        "\n",
        "A continaución se muestra un ejemplo explicado de cómo funciona el algoritmo de búsqueda binaria para una colección de números: \n",
        "\n",
        "<center>\n",
        "<img src=\"https://github.com/EdgarLaraP/MACTI-manejodatos/blob/edgar/AlgoritmosBusqueda/02_BusquedaBinaria/utils/figs/figura1.png?raw=1\" width=\"700\">\n",
        "</center>"
      ],
      "metadata": {
        "id": "mCV2T_4Bikoi"
      }
    },
    {
      "cell_type": "markdown",
      "source": [
        "<a name='3'></a>\n",
        "# 3. Pseudocódigo\n",
        "\n",
        "A continuación se muestra un pseucódigo para la implementación del algoritmo en PYthon, el cual es un preámbulo para el abordaje que tendrá la clase posterior a este notebook. \n",
        "\n",
        "<center>\n",
        "<img src=\"https://github.com/EdgarLaraP/MACTI-manejodatos/blob/edgar/AlgoritmosBusqueda/02_BusquedaBinaria/utils/figs/figura2.png?raw=1\" width=\"700\">\n",
        "</center>\n",
        "\n",
        "Basicamente este pseudocódigo muestra la función busqueda_binaria que toma como entrada una lista ordenada y el valor a buscar y devuelve la posición del valor buscado en la lista, o -1 si el valor no se encuentra en la lista.\n",
        "\n",
        "En la línea 2, se establece el valor de inicio como el índice del primer elemento de la lista y en la línea 3, se establece el valor de fin como el índice del último elemento de la lista.\n",
        "\n",
        "Luego, se realiza un ciclo mientras el valor de inicio sea menor o igual al valor de fin. En cada iteración, se calcula el índice del elemento medio de la lista en la línea 5.\n",
        "\n",
        "En la línea 6 se compara el valor del elemento medio con el valor buscado. Si son iguales, se devuelve la posición del elemento medio. Si el valor buscado es menor que el elemento medio, la búsqueda continúa en la mitad inferior de la lista actualizando el valor de fin en la línea 9. Si el valor buscado es mayor que el elemento medio, la búsqueda continúa en la mitad superior de la lista actualizando el valor de inicio en la línea 8.\n",
        "\n",
        "Si el valor buscado no se encuentra en la lista, el ciclo termina y se devuelve -1 en la línea 12.\n",
        "\n",
        "[Ir al índice](#Contenido)"
      ],
      "metadata": {
        "id": "gVvV5_j9KAZk"
      }
    },
    {
      "cell_type": "markdown",
      "source": [
        "<a name='4'></a>\n",
        "# 4. Análisis de complejidad\n",
        "\n",
        "Para efectos prácticos de esta introducción, no se tratará profundamente el análisis de este algoritmo, sino unas cuantas consideraciones para ir despertando ese análisis propio que se complementará con lo que se vea en clase.\n",
        "\n",
        "Como bien lo hemos notado, este algoritmo toma el nombre de binario pues va realizando operaciones en divisiones de 2, es decir, siempre va dividiendo las listas en dos hasta encontrar (o no) el elemento deseado. Podríamos pensar que como mejor caso el elemento que buscamos sea el mismo que se encuentra en la mitad de nuestra lista, ya que en la primera división de nuestro arreglo tendríamos la respuesta en nuestros ojos. ¿Y cómo sería el caso promedio? o mejor aún, ¿Cuál sería el peor caso? \n",
        "\n",
        "Así como lo hicimos para la búsqueda secuencial, graficaremos el comportamiento de este método contra el tiempo que toma realizar las comparaciones pertinentes, esto para poder despertar el ímpetu de ver en clase el análisis concreto del algoritmo: "
      ],
      "metadata": {
        "id": "AZ07BDc5K8ll"
      }
    },
    {
      "cell_type": "code",
      "source": [
        "import random\n",
        "import time\n",
        "import matplotlib.pyplot as plt\n",
        "\n",
        "def busqueda_binaria(lista, valor):\n",
        "    \"\"\"\n",
        "    Realiza una búsqueda binaria de un valor en una lista ordenada.\n",
        "    Devuelve la posición del valor si se encuentra, o \"no se encuentra aquí\" si no se encuentra.\n",
        "    \"\"\"\n",
        "    izquierda, derecha = 0, len(lista) - 1\n",
        "    while izquierda <= derecha:\n",
        "        medio = (izquierda + derecha) // 2\n",
        "        if lista[medio] == valor:\n",
        "            return medio\n",
        "        elif lista[medio] < valor:\n",
        "            izquierda = medio + 1\n",
        "        else:\n",
        "            derecha = medio - 1\n",
        "    return \"No se encuentra aquí\"\n",
        "\n",
        "# Genera arreglos ordenados de diferentes tamaños\n",
        "tamanos = [10, 50, 100, 500, 1000, 5000, 10000]\n",
        "arreglos = [sorted([random.randint(0, 100000) for _ in range(t)]) for t in tamanos]\n",
        "\n",
        "# Mide el tiempo que tarda la búsqueda para cada tamaño de arreglo\n",
        "tiempos = []\n",
        "valor_buscar = random.randint(0, 100000)\n",
        "print(\"El valor a buscar es: \", valor_buscar)\n",
        "\n",
        "for arreglo in arreglos:\n",
        "    inicio = time.time()\n",
        "    busqueda_binaria(arreglo, valor_buscar)\n",
        "    fin = time.time()\n",
        "    tiempos.append(fin - inicio)\n",
        "\n",
        "# Grafica los resultados\n",
        "plt.plot(tamanos, tiempos)\n",
        "plt.xlabel('Tamaño del arreglo')\n",
        "plt.ylabel('Tiempo (segundos)')\n",
        "plt.title('Complejidad de tiempo de la búsqueda binaria')\n",
        "plt.show()\n",
        "\n"
      ],
      "metadata": {
        "colab": {
          "base_uri": "https://localhost:8080/",
          "height": 323
        },
        "id": "sKZ88OjdMn-1",
        "outputId": "4060bf9f-8b67-4c23-b79a-9b1e7636ba6c"
      },
      "execution_count": 32,
      "outputs": [
        {
          "output_type": "stream",
          "name": "stdout",
          "text": [
            "EL valor a buscar es:  11710\n"
          ]
        },
        {
          "output_type": "display_data",
          "data": {
            "text/plain": [
              "<Figure size 432x288 with 1 Axes>"
            ],
            "image/png": "[encoded data removed]"
          },
          "metadata": {
            "needs_background": "light"
          }
        }
      ]
    },
    {
      "cell_type": "markdown",
      "source": [
        "<a name='Fuentes'></a>\n",
        "#Fuentes:\n",
        "\n",
        "- Binary Search in Python - Javatpoint. (s. f.). www.javatpoint.com. https://www.javatpoint.com/binary-search-in-python GeeksforGeeks. (2023, 25 febrero). \n",
        "- Binary Search. https://www.geeksforgeeks.org/binary-search/ Sharma, R. (2022, 23 noviembre). \n",
        "- Binary Search Algorithm: Function, Benefits, Time & Space Complexity. upGrad blog. https://www.upgrad.com/blog/binary-search-algorithm/\n",
        "\n",
        "[Ir al índice](#Contenido)"
      ],
      "metadata": {
        "id": "nUECNThXSR8l"
      }
    }
  ]
}