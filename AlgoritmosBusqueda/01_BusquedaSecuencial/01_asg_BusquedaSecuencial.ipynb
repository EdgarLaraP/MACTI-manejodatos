{
  "nbformat": 4,
  "nbformat_minor": 0,
  "metadata": {
    "colab": {
      "provenance": []
    },
    "kernelspec": {
      "name": "python3",
      "display_name": "Python 3"
    },
    "language_info": {
      "name": "python"
    }
  },
  "cells": [
    {
      "cell_type": "markdown",
      "source": [
        "<font color=\"Teal\" face=\"Comic Sans MS,arial\">\n",
        "  <h1 align=\"center\"><i>Búsqueda Secuencial</i></h1>\n",
        "  </font>\n",
        "  <font color=\"Black\" face=\"Comic Sans MS,arial\">\n",
        "  <h5 align=\"center\"><i>Profesor: M.en.C. Miguel Angel Pérez León</i></h5>\n",
        "  <h5 align=\"center\"><i>Ayudante: Jesús Iván Coss Calderón</i></h5>\n",
        "  <h5 align=\"center\"><i>Ayudante: Jonathan Ramirez Montes</i></h5>\n",
        "  <h5 align=\"center\"><i>Materia: Manejo de Datos</i></h5>\n",
        "  </font>"
      ],
      "metadata": {
        "id": "ExTe-e6h0_xq"
      }
    },
    {
      "cell_type": "markdown",
      "source": [
        "<a name='Contenido'></a>\n",
        "## Contenido\n",
        "\n",
        "- [Objetivos Generales](#OG)\n",
        "\n",
        "- [Objetivos Particulaes](#OP)\n",
        "\n",
        "- [Ejercicios teóricos](#1)\n",
        "\n",
        "- [Ejercicios prácticos](#2)"
      ],
      "metadata": {
        "id": "94IWyLreJgnL"
      }
    },
    {
      "cell_type": "markdown",
      "source": [
        "<a name='OG'></a>\n",
        "## Objetivos Generales\n",
        "\n",
        "- Que el alumno pueda implementar el conocimiento obtenido a través de la lección en ejercicios prácticos y teóricos sobre el tema de búsqueda secuencial."
      ],
      "metadata": {
        "id": "or3ZfLooJjbm"
      }
    },
    {
      "cell_type": "markdown",
      "source": [
        "<a name='OP'></a>\n",
        "## Objetivos Particulares\n",
        "- Poder realizar ejercicios teóricos referentes al análisis de complejidad del método de búsqueda secuencial y a cómo trabaja en general este algoritmo.\n",
        "- POder implementar en algún software competitivo, distintos algoritmos referentes al tema de búsqueda secuencial. "
      ],
      "metadata": {
        "id": "-qL0chAtKIbD"
      }
    },
    {
      "cell_type": "markdown",
      "source": [
        "<a name='1'></a>\n",
        "#Ejercicios teóricos:\n",
        "\n",
        "1. En la siguiente imagen se describen dos colecciones distintas de datos.\n",
        "    - Para la colección a, indicar en qúe índice se encontraría el número 7, 5 y 0.\n",
        "    - Para la colección b, describir detalladamente cómo funcionaría el algoritmo de búsqueda secuencial para encontrar el número 55.\n",
        "    - Para la colección c, describir detalladamente cómo funcionaría el algoritmo de búsqueda secuencial para encontrar un dato que no está en el arreglo (imaginemos, por ejemplo, el número 23)\n",
        "\n",
        "<center>\n",
        "<img src=\"https://github.com/EdgarLaraP/MACTI-manejodatos/blob/edgar/AlgoritmosBusqueda/01_BusquedaSecuencial/utils/figs/figura5.png?raw=1\" width=\"700\">\n",
        "</center>\n",
        "\n",
        "\n",
        "\n",
        "2. ¿Cuál es el mejor y peor caso para el análisis de complejidad de este algoritmo?\n",
        "\n",
        "3. ¿Se podría describir un caso promedio para este algoritmo?, ¿cuántas comparaciones haría? Describa.\n",
        "\n",
        "4. Enliste las ventajas y desventajas de este algoritmo.\n",
        "\n",
        "5. Considerando la complejidad $O(n)$ que tiene el algoritmo de búsqueda secuencial, discutir las siguientes cuestiones y responder si son verdaderas o falsas, en cada caso explicar su razonamiento: \n",
        "  - Una lista de 1000 elementos siempre tardará 1000 nanosegundos en buscarse, utilizando el algoritmo de búsqueda lineal.\t\n",
        "\n",
        "  - Una prueba de un programa de búsqueda lineal se ejecuta una vez y tarda 20 microsegundos en buscar una lista de 10.000 elementos.\tSi ejecutamos el programa una vez en una lista de 20.000 elementos, ¿tardará 40 microsegundos?.\n",
        "\n",
        "  - Si en un ordenador determinado se tarda una media de 30 milisegundos en buscar en una lista concreta, ¿es imposible que otro ordenador sea más rápido?."
      ],
      "metadata": {
        "id": "vHnxcxyUK8GF"
      }
    },
    {
      "cell_type": "markdown",
      "source": [
        "<a name='2'></a>\n",
        "#Ejercicios Prácticos\n",
        "\n",
        "1. Realiza la implementación en código del algoritmo de búsqueda secuencial con un loop while o for. Ojo: considerar que este tipo de búsqueda no sirve solamente para números, si no también para palabras (o variables tipo string)\n",
        "2. Realiza la implementación en código del algoritmo de búsqueda secuencial en forma recursiva tomando las consideraciones necesarias.\n",
        "3. Utilizar los códigos implementados anteriormente para hacer la búsqueda de la palabra \"Manejo\" y \"LIneal\" en la siguiente lista: \n",
        "\n",
        "$$[5, 11, 'Datos', 'Python', 'Pokemon', 'Miguel', 44, 17, 'Manejo', 'Seguros', 'Colab', 14, 25]$$\n",
        "\n",
        "El programa debe regresar el índice si es que el elemento está dentro de la cadena, o bien, un mensaje de que el elemento no se encuentra dentro de la cadena si es el caso. \n",
        "\n",
        "4. El algoritmo de búsqueda secuencial, como ya se ha venido platicando toda la lección, es un algoritmo que nos sirve para buscar un elemento dado dentro de una colección o arreglo de los mismos. Para llegar a este elemento, el algoritmo va realizando comparaciones (N), hasta encontrar el elemento. A continuación, deberás modificar el algoritmo que ya hemos venido trabajando para contabilizar el número de comparaciones que realiza el algoritmo antes de encontrar el elemento. Algunos puntos a considerar para esta implementación son los siguientes: \n",
        "  - 1. Genera un arreglo llamado \"arr\" de tamaño $n = 10$ que contenga enteros aleatorios distintos entre 1 y n. Los elementos deben ubicarse en el arreglo en el orden aleatorio con el que se generaron.\n",
        "  - 2. Genera un entero aleatorio, $x$ entre 1 y $2+n$. \n",
        "  - 3. Utilizando el algoritmo, buscar x en la matriz \"arr\". Tabular el número de comparaciones, N, que tarda el proceso de búsqueda. \n",
        "  - 4. Repetir los pasos 1 a 3 100 veces y calcula el valor medio, $A_n$, de N. \n",
        "  - 5. Repita los pasos 1 a 4 para n = 20, 30, 40, 50, 60, 70, 80, 90 y 100. \n",
        "  - 6. Realice una gráfica que compare $A_n$ frente a N. \n",
        "\n"
      ],
      "metadata": {
        "id": "Y02oA0NfOpeU"
      }
    }
  ]
}