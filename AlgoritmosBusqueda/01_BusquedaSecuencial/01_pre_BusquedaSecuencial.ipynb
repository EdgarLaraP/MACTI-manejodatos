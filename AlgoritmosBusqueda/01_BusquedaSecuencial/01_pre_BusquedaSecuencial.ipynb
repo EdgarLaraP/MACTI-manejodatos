{
  "nbformat": 4,
  "nbformat_minor": 0,
  "metadata": {
    "colab": {
      "provenance": [],
      "toc_visible": true
    },
    "kernelspec": {
      "name": "python3",
      "display_name": "Python 3"
    },
    "language_info": {
      "name": "python"
    }
  },
  "cells": [
    {
      "cell_type": "markdown",
      "source": [
        "<font color=\"Teal\" face=\"Comic Sans MS,arial\">\n",
        "  <h1 align=\"center\"><i>Búsqueda Secuencial</i></h1>\n",
        "  </font>\n",
        "  <font color=\"Black\" face=\"Comic Sans MS,arial\">\n",
        "  <h5 align=\"center\"><i>Profesor: M.en.C. Miguel Angel Pérez León</i></h5>\n",
        "  <h5 align=\"center\"><i>Ayudante: Jesús Iván Coss Calderón</i></h5>\n",
        "  <h5 align=\"center\"><i>Ayudante: Jonathan Ramirez Montes</i></h5>\n",
        "  <h5 align=\"center\"><i>Materia: Manejo de Datos</i></h5>\n",
        "  </font>"
      ],
      "metadata": {
        "id": "QP3DnW3--_ek"
      }
    },
    {
      "cell_type": "markdown",
      "source": [
        "<a name='Contenido'></a>\n",
        "## Contenido\n",
        "\n",
        "- [Objetivos Generales](#OG)\n",
        "\n",
        "- [Objetivos Particulaes](#OP)\n",
        "\n",
        "- [Introducción](#Int)\n",
        "\n",
        "- [¿Qué es la búsqueda secuencial?](#1)\n",
        "\n",
        "- [Funcionamiento de la búsqueda secuencial](#2)\n",
        "\n",
        "  - [Ejemplos](#Ej1)\n",
        "\n",
        "- [Pseudocódigo](#3)\n",
        "\n",
        "- [Fuentes](#Fuentes)\n",
        "\n"
      ],
      "metadata": {
        "colab_type": "toc",
        "id": "VuBqB1Att3LL"
      }
    },
    {
      "cell_type": "markdown",
      "source": [
        "<a name='OG'></a>\n",
        "## Objetivos Generales\n",
        "\n",
        "- Que el alumno tenga noción de qué es la búsqueda secuencial, así como su importancia en el manejo de datos. "
      ],
      "metadata": {
        "id": "bIC2r0Rk_K7r"
      }
    },
    {
      "cell_type": "markdown",
      "source": [
        "<a name='OP'></a>\n",
        "## Objetivos Particulares\n",
        "- Dar un pequeño vistazo teórico y gráfico a cómo funciona este tipo de búsqueda.\n",
        "- Generar un código breve para "
      ],
      "metadata": {
        "id": "g7NoS8VzCPoI"
      }
    },
    {
      "cell_type": "markdown",
      "source": [
        "<a name='Int'></a>\n",
        "# Introducción\n",
        "\n",
        "El almacenamiento de datos siempre ha sido una cuestión importante en el sentido computacional e industrial de la progrmación, ya que cada vez es más necesaria la implementación de colecciones que nos ayuden a guardar valores, así como que nos permitan realizar búsquedas eficientes.\n",
        "\n"
      ],
      "metadata": {
        "id": "xLyoRRgh_qXz"
      }
    },
    {
      "cell_type": "markdown",
      "source": [
        "<a name='1'></a>\n",
        "# 1. ¿Qué es la búsqueda secuencial?\n",
        "\n",
        "Cuando almacenamos datos en una colección o lista, podemos verlos como datos ordenados secuencialmente (o en otras palabras, linealmente). Cada dato se almacena en una posición única en la lista o arreglo que estemos tratando. En las listas que utilizan los distintos lenguajes de programación, estas posiciones son los valores índice de los elementos individuales. Gracias a que están ordenados, podemos realizar búsquedas lineales sobre los arreglos, es decir, realizar búsquedas secuenciales. \n",
        "\n",
        "\n"
      ],
      "metadata": {
        "id": "mC-eTxJYC0MQ"
      }
    },
    {
      "cell_type": "markdown",
      "source": [
        "<a name='2'></a>\n",
        "# 2. Funcionamiento de la búsqueda secuencial\n",
        "\n",
        "Como lo mencionamos anteriormente, la búsqueda secuencial es una búsqueda la cual se realiza sobre una colección de datos (un arreglo).\n",
        "El funcionamiento es muy simple, empezamos comparando el elemento que buscamos con el dato que está en la colección, esto desde el primer elemento y pasando uno a uno, siguiendo el orden secuencial subyacente hasta que encontramos lo que buscamos o nos quedamos sin elementos. Si nos quedamos sin elementos, habremos descubierto que el elemento que buscábamos no estaba presente.\n",
        "\n",
        "<a name='Ej1'></a>\n",
        "## Ejemplos\n",
        "Por ejemplo, en la siguiente figura podremos visualiar un ejemplo de la búsqueda secuencial. Estamos buscando el número 33, se hace la comparación con el primer dato de la colección, que en este caso es 10; como no es igual a 33 pasamos al siguiente elemento, el 14; no lo cumple, entonces pasamos al siguiente. Continuamos este proceso hasta la iteración 7, donde encontramos al elemento 33, entonces ahí se detendrá nuestra búsqueda secuencial: \n",
        "\n",
        "\n",
        "\n",
        "<center>\n",
        "<img src=\"https://github.com/EdgarLaraP/MACTI-manejodatos/blob/edgar/AlgoritmosBusqueda/01_BusquedaSecuencial/utils/figs/figura1.gif?raw=1\" width=\"700\">\n",
        "</center>\n",
        "\n",
        "\n",
        "Otro ejemplo que podemos ver es en la siguiente imagen, en donde a) nos muestra cómo se encontró el número 31 y b) nos muestra, por otro lado, qué pasaría si el número no se encuentra en la colección (en este caso, el 8):\n",
        "\n",
        "\n",
        "\n",
        "<center>\n",
        "<img src=\"https://github.com/EdgarLaraP/MACTI-manejodatos/blob/edgar/AlgoritmosBusqueda/01_BusquedaSecuencial/utils/figs/figura2.webp?raw=1\" width=\"700\">\n",
        "</center>\n",
        "\n",
        "Recordatorio: En los arreglos, el primer elemento muchas veces es considerado como el índice 0, o sea que el tamaño de un arreglo está determinado por $n-1$\n",
        "\n",
        "[Ir al índice](#Contenido)\n"
      ],
      "metadata": {
        "id": "cTQfZ79jOOue"
      }
    },
    {
      "cell_type": "markdown",
      "source": [
        "<a name='3'></a>\n",
        "# 3. Pseudocódigo\n",
        "\n",
        "A continuación, se muestra de forma breve cómo se puede implementar un código para este tipo de búsqueda, el cual se mostrará con mayor peso en clase:\n",
        "\n",
        "<center>\n",
        "<img src=\"https://github.com/EdgarLaraP/MACTI-manejodatos/blob/edgar/AlgoritmosBusqueda/01_BusquedaSecuencial/utils/figs/figura3.png?raw=1\" width=\"700\">\n",
        "</center>\n",
        "\n",
        "<center>\n",
        "<img src=\"https://github.com/EdgarLaraP/MACTI-manejodatos/blob/edgar/AlgoritmosBusqueda/01_BusquedaSecuencial/utils/figs/figura4.png?raw=1\" width=\"700\">\n",
        "</center>\n",
        "\n"
      ],
      "metadata": {
        "id": "nQfzSTWc2p3H"
      }
    },
    {
      "cell_type": "markdown",
      "source": [
        "<a name='Fuentes'></a>\n",
        "#Fuentes\n",
        "\n",
        "- Bhadaniya, S., Ahmed, A., Ahmed, A., & Jain, K. (s. f.). Searching Algorithms - Linear and Binary Search (Python). FavTutor. https://favtutor.com/blogs/searching-algorithms \n",
        "- Data Structure and Algorithms Linear Search. (s. f.). https://www.tutorialspoint.com/data_structures_algorithms/linear_search_algorithm.htm\n",
        "- Kharwal, A. (2020, 10 noviembre). Linear Search in C++. thecleverprogrammer. https://thecleverprogrammer.com/2020/11/10/linear-search-in-c/\n",
        "\n",
        "[Ir al índice](#Contenido)"
      ],
      "metadata": {
        "id": "G7y_yEV83vEQ"
      }
    }
  ]
}