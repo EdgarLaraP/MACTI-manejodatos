{
  "nbformat": 4,
  "nbformat_minor": 0,
  "metadata": {
    "colab": {
      "provenance": [],
      "toc_visible": true
    },
    "kernelspec": {
      "name": "python3",
      "display_name": "Python 3"
    },
    "language_info": {
      "name": "python"
    }
  },
  "cells": [
    {
      "cell_type": "markdown",
      "source": [
        "<font color=\"Teal\" face=\"Comic Sans MS,arial\">\n",
        "  <h1 align=\"center\"><i>Búsqueda Secuencial</i></h1>\n",
        "  </font>\n",
        "  <font color=\"Black\" face=\"Comic Sans MS,arial\">\n",
        "  <h5 align=\"center\"><i>Profesor: M.en.C. Miguel Angel Pérez León</i></h5>\n",
        "  <h5 align=\"center\"><i>Ayudante: Jesús Iván Coss Calderón</i></h5>\n",
        "  <h5 align=\"center\"><i>Ayudante: Jonathan Ramirez Montes</i></h5>\n",
        "  <h5 align=\"center\"><i>Materia: Manejo de Datos</i></h5>\n",
        "  </font>"
      ],
      "metadata": {
        "id": "QP3DnW3--_ek"
      }
    },
    {
      "cell_type": "markdown",
      "source": [
        "<a name='Contenido'></a>\n",
        "## Contenido\n",
        "\n",
        "- [Objetivos Generales](#OG)\n",
        "\n",
        "- [Objetivos Particulares](#OP)\n",
        "\n",
        "- [Introducción](#Int)\n",
        "\n",
        "- [¿Qué es la búsqueda secuencial?](#1)\n",
        "\n",
        "- [Funcionamiento de la búsqueda secuencial](#2)\n",
        "\n",
        "  - [Ejemplos](#Ej1)\n",
        "\n",
        "- [Pseudocódigo](#3)\n",
        "\n",
        "- [Análisis de complejidad](#4)\n",
        "\n",
        "- [Fuentes](#Fuentes)\n",
        "\n"
      ],
      "metadata": {
        "colab_type": "toc",
        "id": "VuBqB1Att3LL"
      }
    },
    {
      "cell_type": "markdown",
      "source": [
        "<a name='OG'></a>\n",
        "## Objetivos Generales\n",
        "\n",
        "- Que el alumno tenga noción de qué es la búsqueda secuencial, así como su importancia en el manejo de datos. "
      ],
      "metadata": {
        "id": "bIC2r0Rk_K7r"
      }
    },
    {
      "cell_type": "markdown",
      "source": [
        "<a name='OP'></a>\n",
        "## Objetivos Particulares\n",
        "- Dar un pequeño vistazo teórico y gráfico a cómo funciona este tipo de búsqueda.\n",
        "- Generar un código breve para la familiarización del análisis de complejidad del algoritmo de búsqueda secuencial.\n"
      ],
      "metadata": {
        "id": "g7NoS8VzCPoI"
      }
    },
    {
      "cell_type": "markdown",
      "source": [
        "<a name='Int'></a>\n",
        "# Introducción\n",
        "\n",
        "El almacenamiento de datos siempre ha sido una cuestión importante en el sentido computacional e industrial de la progrmación, ya que cada vez es más necesaria la implementación de colecciones que nos ayuden a guardar valores, así como que nos permitan realizar búsquedas eficientes.\n",
        "\n"
      ],
      "metadata": {
        "id": "xLyoRRgh_qXz"
      }
    },
    {
      "cell_type": "markdown",
      "source": [
        "<a name='1'></a>\n",
        "# 1. ¿Qué es la búsqueda secuencial?\n",
        "\n",
        "Cuando almacenamos datos en una colección o lista, podemos verlos como datos ordenados secuencialmente (o en otras palabras, linealmente). Cada dato se almacena en una posición única en la lista o arreglo que estemos tratando. En las listas que utilizan los distintos lenguajes de programación, estas posiciones son los valores índice de los elementos individuales. Gracias a que están ordenados, podemos realizar búsquedas lineales sobre los arreglos, es decir, realizar búsquedas secuenciales. \n",
        "\n",
        "\n"
      ],
      "metadata": {
        "id": "mC-eTxJYC0MQ"
      }
    },
    {
      "cell_type": "markdown",
      "source": [
        "<a name='2'></a>\n",
        "# 2. Funcionamiento de la búsqueda secuencial\n",
        "\n",
        "Como lo mencionamos anteriormente, la búsqueda secuencial es una búsqueda la cual se realiza sobre una colección de datos (un arreglo).\n",
        "El funcionamiento es muy simple, empezamos comparando el elemento que buscamos con el dato que está en la colección, esto desde el primer elemento y pasando uno a uno, siguiendo el orden secuencial subyacente hasta que encontramos lo que buscamos o nos quedamos sin elementos. Si nos quedamos sin elementos, habremos descubierto que el elemento que buscábamos no estaba presente.\n",
        "\n",
        "<a name='Ej1'></a>\n",
        "## Ejemplos\n",
        "Por ejemplo, en la siguiente figura podremos visualiar un ejemplo de la búsqueda secuencial. Estamos buscando el número 33, se hace la comparación con el primer dato de la colección, que en este caso es 10; como no es igual a 33 pasamos al siguiente elemento, el 14; no lo cumple, entonces pasamos al siguiente. Continuamos este proceso hasta la iteración 7, donde encontramos al elemento 33, entonces ahí se detendrá nuestra búsqueda secuencial: \n",
        "\n",
        "\n",
        "\n",
        "<center>\n",
        "<img src=\"https://github.com/EdgarLaraP/MACTI-manejodatos/blob/edgar/AlgoritmosBusqueda/01_BusquedaSecuencial/utils/figs/figura1.gif?raw=1\" width=\"700\">\n",
        "</center>\n",
        "\n",
        "\n",
        "Otro ejemplo que podemos ver es en la siguiente imagen, en donde a) nos muestra cómo se encontró el número 31 y b) nos muestra, por otro lado, qué pasaría si el número no se encuentra en la colección (en este caso, el 8):\n",
        "\n",
        "\n",
        "\n",
        "<center>\n",
        "<img src=\"https://github.com/EdgarLaraP/MACTI-manejodatos/blob/edgar/AlgoritmosBusqueda/01_BusquedaSecuencial/utils/figs/figura2.webp?raw=1\" width=\"700\">\n",
        "</center>\n",
        "\n",
        "Recordatorio: En los arreglos, el primer elemento muchas veces es considerado como el índice 0, o sea que el tamaño de un arreglo está determinado por $n-1$\n",
        "\n",
        "[Ir al índice](#Contenido)\n"
      ],
      "metadata": {
        "id": "cTQfZ79jOOue"
      }
    },
    {
      "cell_type": "markdown",
      "source": [
        "<a name='3'></a>\n",
        "# 3. Pseudocódigo\n",
        "\n",
        "A continuación, se muestra de forma breve cómo se puede implementar un código para este tipo de búsqueda, el cual se mostrará con mayor peso en clase:\n",
        "\n",
        "<center>\n",
        "<img src=\"https://github.com/EdgarLaraP/MACTI-manejodatos/blob/edgar/AlgoritmosBusqueda/01_BusquedaSecuencial/utils/figs/figura3.png?raw=1\" width=\"700\">\n",
        "</center>\n",
        "\n",
        "<center>\n",
        "<img src=\"https://github.com/EdgarLaraP/MACTI-manejodatos/blob/edgar/AlgoritmosBusqueda/01_BusquedaSecuencial/utils/figs/figura4.png?raw=1\" width=\"700\">\n",
        "</center>\n",
        "\n"
      ],
      "metadata": {
        "id": "nQfzSTWc2p3H"
      }
    },
    {
      "cell_type": "markdown",
      "source": [
        "<a name='4'></a>\n",
        "# 4. Análisis de complejidad\n",
        "\n",
        "Es claro que este aspecto es mejor revisarlo en clase, sin embargo, empezaremos a indagar un poco sobre el análisis de complejidad que puede tener este tipo de búsqueda.\n",
        "\n",
        "Como lo mencionamos en la introducción, esta búsqueda también es llamada \"búsqueda lineal\", y no es por más que por la forma en la que vamos buscando, ya que como lo hemos ejemplificado con anterioridad, lo único que se va haciendo en este tipo de búsqueda es comparar elemento por elemento de una lista existente. Por lo anterior, y ante la curiosidad, trataremos de graficar este tipo de búsqueda:\n",
        "\n",
        "Para poder graficar el tiempo de una función, haremos uso del módulo $timeit$, el cual no es más que un módulo que nos permite medir los tiempos de ejecución de ciertas partes de código en python. La estructura general de este módulo es la siguiente:\n",
        "\n",
        "$$timeit.timeit(stmt, setup, number)$$\n",
        "Donde:\n",
        "- $stmt$ = función o string con el código que se quiere evaluar.\n",
        "- $setup$ =  denota la pieza de código que necesita ejecutarse solo una vez\n",
        "- $number$ = número de repeticiones que se ejecuta el algoritmo para realizar la estimación, por defecto son 1000000\n",
        "\n",
        "\n",
        "Para efectos prácticos de este notebook, se entenderá que Matplotlib es un recurso que ya se conoce por el estudiante. \n",
        "\n",
        "A continuación se muestran dos casos, uno en donde el arreglo a lo más tiene 100 elementos y otro en donde cuenta con 10,000.\n"
      ],
      "metadata": {
        "id": "qBAbL8mi_ex0"
      }
    },
    {
      "cell_type": "code",
      "source": [
        "import matplotlib.pyplot as plt\n",
        "import timeit\n",
        "\n",
        "def busqueda_secuencial(arreglo, x):  #Este código se verá más a detalle en clase\n",
        "    for i in range(len(arreglo)):\n",
        "        if arreglo[i] == x:\n",
        "            return i\n",
        "    return -1\n",
        "\n",
        "def grafica_busqueda_secuencial():\n",
        "    complejidad_tiempo = []\n",
        "    tamaño = []\n",
        "\n",
        "    for n in range(1, 101, 10):\n",
        "        arreglo = list(range(n))\n",
        "        x = -1\n",
        "        tiempo = timeit.timeit(lambda: busqueda_secuencial(arreglo, x), number=10)\n",
        "        complejidad_tiempo.append(tiempo)\n",
        "        tamaño.append(n)\n",
        "\n",
        "    plt.plot(tamaño, complejidad_tiempo)\n",
        "    plt.title('Complejidad de la búsqueda secuencial')\n",
        "    plt.xlabel('Tamaño del arreglo')\n",
        "    plt.ylabel('Tiempo de Complejiad (segundos)')\n",
        "    plt.show()\n",
        "    plt.savefig('diagrama-complejidad.png')\n",
        "\n",
        "grafica_busqueda_secuencial()"
      ],
      "metadata": {
        "colab": {
          "base_uri": "https://localhost:8080/",
          "height": 313
        },
        "id": "JA__FY8JVPxU",
        "outputId": "4226aec7-0e1d-4bf0-ca6a-f86119904ff1"
      },
      "execution_count": null,
      "outputs": [
        {
          "output_type": "display_data",
          "data": {
            "text/plain": [
              "<Figure size 432x288 with 1 Axes>"
            ],
            "image/png": "[encoded data removed]"
          },
          "metadata": {
            "needs_background": "light"
          }
        },
        {
          "output_type": "display_data",
          "data": {
            "text/plain": [
              "<Figure size 432x288 with 0 Axes>"
            ]
          },
          "metadata": {}
        }
      ]
    },
    {
      "cell_type": "code",
      "source": [
        "import matplotlib.pyplot as plt\n",
        "import timeit\n",
        "\n",
        "def busqueda_secuencial(arreglo, x):\n",
        "    for i in range(len(arreglo)):\n",
        "        if arreglo[i] == x:\n",
        "            return i\n",
        "    return -1\n",
        "\n",
        "def grafica_busqueda_secuencial():\n",
        "    complejidad_tiempo = []\n",
        "    tamaño = []\n",
        "\n",
        "    for n in range(1, 10001, 100):\n",
        "        arreglo = list(range(n))\n",
        "        x = -1\n",
        "        tiempo = timeit.timeit(lambda: busqueda_secuencial(arreglo, x), number=100)\n",
        "        complejidad_tiempo.append(tiempo)\n",
        "        tamaño.append(n)\n",
        "\n",
        "    plt.plot(tamaño, complejidad_tiempo)\n",
        "    plt.title('Complejidad de la búsqueda secuencial')\n",
        "    plt.xlabel('Tamaño del arreglo')\n",
        "    plt.ylabel('Tiempo de Complejiad (segundos)')\n",
        "    plt.show()\n",
        "    plt.savefig('diagrama-complejidad.png')\n",
        "\n",
        "grafica_busqueda_secuencial()"
      ],
      "metadata": {
        "colab": {
          "base_uri": "https://localhost:8080/",
          "height": 313
        },
        "id": "7CGhcmxcCFja",
        "outputId": "e3fd00d7-ec0c-4340-9399-31d738a258da"
      },
      "execution_count": null,
      "outputs": [
        {
          "output_type": "display_data",
          "data": {
            "text/plain": [
              "<Figure size 432x288 with 1 Axes>"
            ],
            "image/png": "[encoded data removed]"
          },
          "metadata": {
            "needs_background": "light"
          }
        },
        {
          "output_type": "display_data",
          "data": {
            "text/plain": [
              "<Figure size 432x288 with 0 Axes>"
            ]
          },
          "metadata": {}
        }
      ]
    },
    {
      "cell_type": "markdown",
      "source": [
        "Como podemos observar, para el arreglo de 100 elementos vemos una gráfica casi lineal con algunas curvas, es por ello que generalmente a esta búsqueda se le da el nombre de búsqueda lineal. Sin embargo al empezar a ver más datos, como fue el caso de los 10,000, después de los 2000 vemos curvas más notables, las cuales seguramente se deben a la complejidad que va obteniendo y a las iteraciones que va realizando el algoritmo. ¿Se podría visualizar con esto el mejor caso y el peor caso? Se deja como ejercicio a reflexionar para la clase. "
      ],
      "metadata": {
        "id": "52PRG7HKHex0"
      }
    },
    {
      "cell_type": "markdown",
      "source": [
        "<a name='Fuentes'></a>\n",
        "#Fuentes\n",
        "\n",
        "- Bhadaniya, S., Ahmed, A., Ahmed, A., & Jain, K. (s. f.). Searching Algorithms - Linear and Binary Search (Python). FavTutor. https://favtutor.com/blogs/searching-algorithms \n",
        "- Data Structure and Algorithms Linear Search. (s. f.). https://www.tutorialspoint.com/data_structures_algorithms/linear_search_algorithm.htm\n",
        "- Kharwal, A. (2020, 10 noviembre). Linear Search in C++. thecleverprogrammer. https://thecleverprogrammer.com/2020/11/10/linear-search-in-c/\n",
        "\n",
        "[Ir al índice](#Contenido)"
      ],
      "metadata": {
        "id": "G7y_yEV83vEQ"
      }
    }
  ]
}
