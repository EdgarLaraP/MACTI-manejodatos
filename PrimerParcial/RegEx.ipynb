{
 "cells": [
  {
   "cell_type": "markdown",
   "metadata": {
    "deletable": false,
    "editable": false,
    "nbgrader": {
     "cell_type": "markdown",
     "checksum": "f165aa4261bd413ec2d0f60a85dbab03",
     "grade": false,
     "grade_id": "cell-07b575e6570d43c4",
     "locked": true,
     "schema_version": 3,
     "solution": false,
     "task": false
    }
   },
   "source": [
    "<font color=\"Teal\" face=\"Comic Sans MS,arial\">\n",
    "  <h1 align=\"center\"><i>Ejercicios dos puntos extra 1er parcial</i></h1>\n",
    "  </font>\n",
    "  <font color=\"Black\" face=\"Comic Sans MS,arial\">\n",
    "  <h5 align=\"center\"><i>Profesor: M.en.C. Miguel Angel Pérez León</i></h5>\n",
    "  <h5 align=\"center\"><i>Ayudante: Jonathan Ramirez Montes</i></h5>\n",
    "  <h5 align=\"center\"><i>Ayudante: Jesús Iván Coss Calderón</i></h5>\n",
    "  <h5 align=\"center\"><i>Materia: Manejo de Datos</i></h5>\n",
    "  </font>"
   ]
  },
  {
   "cell_type": "markdown",
   "metadata": {
    "deletable": false,
    "editable": false,
    "id": "WzpLGeqMBap-",
    "nbgrader": {
     "cell_type": "markdown",
     "checksum": "5ccbf133c8322e41299f2ec38ec4f50a",
     "grade": false,
     "grade_id": "cell-de4c5ec7d4fc7d22",
     "locked": true,
     "schema_version": 3,
     "solution": false,
     "task": false
    }
   },
   "source": [
    "## RegEx\n",
    "\n",
    "Constestar los siguientes ejercicios:\n",
    "    \n",
    "    - Se sugiere realizarse en parejas\n",
    "    - Todos los ejericicios deben pasar las pruebas\n",
    "    - en caso de cración de funciones, comentarlas debidamente como como se mostró en clases:\n",
    "\n",
    "```python\n",
    "def nombre_funcion(arg_1:tipo_dato, arg_2:tipo_dato,...,) -> (tipo de dato de vuelta de la función):\n",
    "    '''descripción de lo que hace la función\n",
    "            - tipo de dato de entrada y valores que acxepta\n",
    "            - tipo de dato de salida y valores qeu acepta\n",
    "\n",
    "        poner un ejemplo de lo que hace la funcion\n",
    "        >>>nombre_funcion(5,3)\n",
    "        [out] 8\n",
    "    '''\n",
    "```\n",
    "\n",
    "Todo inciso cuenta con su respectiva validación, **no continuar con incisos que no hayan pasado la validación.**\n",
    "\n",
    "- (a) Todos los telefonos que comiencen con *55* (solo los que comiencen así).\n",
    "- (b) Unicamente los correos que sean del dominio *@ciencias.unam.mx*.\n",
    "- (c) La lista de las carreras (solo debe aparecer una vez cada carrera."
   ]
  },
  {
   "cell_type": "markdown",
   "metadata": {
    "deletable": false,
    "editable": false,
    "nbgrader": {
     "cell_type": "markdown",
     "checksum": "7cd0c0d877f6ef8eeca72dd0531d0e6c",
     "grade": false,
     "grade_id": "cell-2494b8a44223bb5d",
     "locked": true,
     "schema_version": 3,
     "solution": false,
     "task": false
    }
   },
   "source": [
    "## Las siguientes lineas son de apoyo para que ustedes sólo procesen los ejercicios\n",
    "\n",
    "**Es necesario ejecutar las siguientes celdas, de otra forma no podrás realizar los ejercicios.**"
   ]
  },
  {
   "cell_type": "code",
   "execution_count": null,
   "metadata": {
    "colab": {
     "base_uri": "https://localhost:8080/",
     "height": 230
    },
    "deletable": false,
    "editable": false,
    "executionInfo": {
     "elapsed": 209,
     "status": "error",
     "timestamp": 1641400402385,
     "user": {
      "displayName": "Jonathan Ramírez",
      "photoUrl": "https://lh3.googleusercontent.com/a-/AOh14GhvZRiHRf6YVTs7KC9kKQMXTTx1G8tKPeF4g7danQ=s64",
      "userId": "09469315614794190682"
     },
     "user_tz": 360
    },
    "id": "ZeswvqRsBap_",
    "nbgrader": {
     "cell_type": "code",
     "checksum": "e28fe70ca7914498ce59cbc2a63cf05b",
     "grade": true,
     "grade_id": "cell-ba32c59b74443991",
     "locked": true,
     "points": 0,
     "schema_version": 3,
     "solution": false,
     "task": false
    },
    "outputId": "3f3c0a18-2035-49bb-9853-be4af0202d1e"
   },
   "outputs": [],
   "source": [
    "# bibliotecas de evaluacion automatizada\n",
    "import numpy as np\n",
    "import re\n",
    "from macti.evaluacion import Evalua\n",
    "evaluacion = Evalua('../../MACTI-manejodatos/PrimerParcial/utils/data/RegEx', local=True)\n",
    "\n",
    "archivo = open('../../MACTI-manejodatos/PrimerParcial/utils/data/ManejoDatos9180.txt', 'r') #abrir el txt\n",
    "alumnos = archivo.read() # lectura de txt y fuardado en la variable words\n",
    "archivo.close()"
   ]
  },
  {
   "cell_type": "code",
   "execution_count": null,
   "metadata": {
    "deletable": false,
    "editable": false,
    "executionInfo": {
     "elapsed": 52,
     "status": "aborted",
     "timestamp": 1641400402743,
     "user": {
      "displayName": "Jonathan Ramírez",
      "photoUrl": "https://lh3.googleusercontent.com/a-/AOh14GhvZRiHRf6YVTs7KC9kKQMXTTx1G8tKPeF4g7danQ=s64",
      "userId": "09469315614794190682"
     },
     "user_tz": 360
    },
    "id": "UlcffWFKBaqB",
    "nbgrader": {
     "cell_type": "code",
     "checksum": "eb448e02f5ad7b39398ee3acbc4032e3",
     "grade": true,
     "grade_id": "cell-ca07fb6b3287579d",
     "locked": true,
     "points": 0,
     "schema_version": 3,
     "solution": false,
     "task": false
    }
   },
   "outputs": [],
   "source": [
    "# UTILIZA LA VARIABLE words para todos los incisos\n",
    "print(alumnos)"
   ]
  },
  {
   "cell_type": "markdown",
   "metadata": {},
   "source": [
    "## Consideraciones\n",
    "\n",
    "- En cada iniciso debes completar el código respetando la variable de retorno\n",
    "- Respeta el orden alfabético.\n",
    "- Cada inciso contiene su respectiva validación, contesta en orden, no avances si no has resuelto un inciso previo."
   ]
  },
  {
   "cell_type": "code",
   "execution_count": null,
   "metadata": {
    "deletable": false,
    "executionInfo": {
     "elapsed": 53,
     "status": "aborted",
     "timestamp": 1641400402745,
     "user": {
      "displayName": "Jonathan Ramírez",
      "photoUrl": "https://lh3.googleusercontent.com/a-/AOh14GhvZRiHRf6YVTs7KC9kKQMXTTx1G8tKPeF4g7danQ=s64",
      "userId": "09469315614794190682"
     },
     "user_tz": 360
    },
    "id": "8nN1Am2VBaqC",
    "nbgrader": {
     "cell_type": "code",
     "checksum": "186159e6c02341d9f9288aae4dec2a9a",
     "grade": false,
     "grade_id": "cell-4e4d42ed539f28d6",
     "locked": false,
     "schema_version": 3,
     "solution": true,
     "task": false
    }
   },
   "outputs": [],
   "source": [
    "# (a) unicamente los telefonos que comiencen con 55.\n",
    "def numeros55():\n",
    "    # variables auxiliares\n",
    "    lista_numeros55 = []\n",
    "    # YOUR CODE HERE\n",
    "    raise NotImplementedError()\n",
    "    return lista_numeros55"
   ]
  },
  {
   "cell_type": "code",
   "execution_count": null,
   "metadata": {
    "deletable": false,
    "editable": false,
    "nbgrader": {
     "cell_type": "code",
     "checksum": "c68c8f08d765afb735acea2891155c64",
     "grade": true,
     "grade_id": "cell-b66182bcb97baf18",
     "locked": true,
     "points": 1,
     "schema_version": 3,
     "solution": false,
     "task": false
    }
   },
   "outputs": [],
   "source": [
    "\"\"\"\n",
    "Evaluacion del inciso (a)\n",
    "\"\"\"\n",
    "evaluacion.verifica(np.array(numeros55()), 1)"
   ]
  },
  {
   "cell_type": "code",
   "execution_count": null,
   "metadata": {
    "deletable": false,
    "executionInfo": {
     "elapsed": 55,
     "status": "aborted",
     "timestamp": 1641400402747,
     "user": {
      "displayName": "Jonathan Ramírez",
      "photoUrl": "https://lh3.googleusercontent.com/a-/AOh14GhvZRiHRf6YVTs7KC9kKQMXTTx1G8tKPeF4g7danQ=s64",
      "userId": "09469315614794190682"
     },
     "user_tz": 360
    },
    "id": "NNsVcH0cBaqD",
    "nbgrader": {
     "cell_type": "code",
     "checksum": "88c32d22fcb4b987afec9dc3fe88f5c2",
     "grade": false,
     "grade_id": "cell-e8a00f41e432cab4",
     "locked": false,
     "schema_version": 3,
     "solution": true,
     "task": false
    }
   },
   "outputs": [],
   "source": [
    "# (b) todos los correos del dominio @ciencias\n",
    "def correos_ciencias():\n",
    "    # variables auxiliares\n",
    "    correos = []\n",
    "    # YOUR CODE HERE\n",
    "    raise NotImplementedError()\n",
    "    return correos"
   ]
  },
  {
   "cell_type": "code",
   "execution_count": null,
   "metadata": {
    "deletable": false,
    "editable": false,
    "nbgrader": {
     "cell_type": "code",
     "checksum": "c209f0ef3c6ccfc6a0c4d72b22a762b9",
     "grade": true,
     "grade_id": "cell-7d07e2817f78029c",
     "locked": true,
     "points": 0,
     "schema_version": 3,
     "solution": false,
     "task": false
    }
   },
   "outputs": [],
   "source": [
    "evaluacion.verifica(np.array(correos_ciencias()), 2)"
   ]
  },
  {
   "cell_type": "code",
   "execution_count": null,
   "metadata": {
    "deletable": false,
    "executionInfo": {
     "elapsed": 56,
     "status": "aborted",
     "timestamp": 1641400402749,
     "user": {
      "displayName": "Jonathan Ramírez",
      "photoUrl": "https://lh3.googleusercontent.com/a-/AOh14GhvZRiHRf6YVTs7KC9kKQMXTTx1G8tKPeF4g7danQ=s64",
      "userId": "09469315614794190682"
     },
     "user_tz": 360
    },
    "id": "GXfX-6fcBaqE",
    "nbgrader": {
     "cell_type": "code",
     "checksum": "44f7acbe8f5eec95605124e7f3b8abd6",
     "grade": false,
     "grade_id": "cell-95cf6233226ab321",
     "locked": false,
     "schema_version": 3,
     "solution": true,
     "task": false
    }
   },
   "outputs": [],
   "source": [
    "# (c) la lista de las carreras que hay en el documento\n",
    "def alumnos_carreras():\n",
    "    # variables auxiliares\n",
    "    carreras = []\n",
    "    # YOUR CODE HERE\n",
    "    raise NotImplementedError()\n",
    "    return carreras"
   ]
  },
  {
   "cell_type": "code",
   "execution_count": null,
   "metadata": {
    "deletable": false,
    "editable": false,
    "nbgrader": {
     "cell_type": "code",
     "checksum": "9b23fc0a73aaad6596534a8593b4e4f4",
     "grade": true,
     "grade_id": "cell-f229ebc5365981d1",
     "locked": true,
     "points": 0,
     "schema_version": 3,
     "solution": false,
     "task": false
    }
   },
   "outputs": [],
   "source": [
    "evaluacion.verifica(np.array(alumnos_carreras()), 3)"
   ]
  }
 ],
 "metadata": {
  "accelerator": "GPU",
  "colab": {
   "name": "Exam of the first module Calificado.ipynb",
   "provenance": []
  },
  "kernelspec": {
   "display_name": "Python 3 (ipykernel)",
   "language": "python",
   "name": "python3"
  },
  "language_info": {
   "codemirror_mode": {
    "name": "ipython",
    "version": 3
   },
   "file_extension": ".py",
   "mimetype": "text/x-python",
   "name": "python",
   "nbconvert_exporter": "python",
   "pygments_lexer": "ipython3",
   "version": "3.9.7"
  },
  "toc": {
   "base_numbering": 1,
   "nav_menu": {},
   "number_sections": true,
   "sideBar": true,
   "skip_h1_title": false,
   "title_cell": "Table of Contents",
   "title_sidebar": "Contents",
   "toc_cell": false,
   "toc_position": {},
   "toc_section_display": true,
   "toc_window_display": false
  },
  "varInspector": {
   "cols": {
    "lenName": 16,
    "lenType": 16,
    "lenVar": 40
   },
   "kernels_config": {
    "python": {
     "delete_cmd_postfix": "",
     "delete_cmd_prefix": "del ",
     "library": "var_list.py",
     "varRefreshCmd": "print(var_dic_list())"
    },
    "r": {
     "delete_cmd_postfix": ") ",
     "delete_cmd_prefix": "rm(",
     "library": "var_list.r",
     "varRefreshCmd": "cat(var_dic_list()) "
    }
   },
   "types_to_exclude": [
    "module",
    "function",
    "builtin_function_or_method",
    "instance",
    "_Feature"
   ],
   "window_display": false
  },
  "vscode": {
   "interpreter": {
    "hash": "0a68ab044c6ea367198d7b58f0f8352272d5267d2d2c131306c104f6e9ede3d6"
   }
  }
 },
 "nbformat": 4,
 "nbformat_minor": 4
}
